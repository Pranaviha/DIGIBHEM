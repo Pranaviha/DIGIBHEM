{
 "cells": [
  {
   "cell_type": "code",
   "execution_count": 1,
   "id": "7000b7ad",
   "metadata": {},
   "outputs": [],
   "source": [
    "import pandas as pd\n",
    "import numpy as np\n",
    "from sklearn import metrics\n",
    "%matplotlib inline\n",
    "import matplotlib.pyplot as plt"
   ]
  },
  {
   "cell_type": "code",
   "execution_count": 2,
   "id": "3536993b",
   "metadata": {},
   "outputs": [],
   "source": [
    "dataset=pd.read_csv('test.csv')"
   ]
  },
  {
   "cell_type": "code",
   "execution_count": 3,
   "id": "1726b8e8",
   "metadata": {},
   "outputs": [
    {
     "data": {
      "text/html": [
       "<div>\n",
       "<style scoped>\n",
       "    .dataframe tbody tr th:only-of-type {\n",
       "        vertical-align: middle;\n",
       "    }\n",
       "\n",
       "    .dataframe tbody tr th {\n",
       "        vertical-align: top;\n",
       "    }\n",
       "\n",
       "    .dataframe thead th {\n",
       "        text-align: right;\n",
       "    }\n",
       "</style>\n",
       "<table border=\"1\" class=\"dataframe\">\n",
       "  <thead>\n",
       "    <tr style=\"text-align: right;\">\n",
       "      <th></th>\n",
       "      <th>Date</th>\n",
       "      <th>Open</th>\n",
       "      <th>High</th>\n",
       "      <th>Low</th>\n",
       "      <th>Close</th>\n",
       "      <th>Adj Close</th>\n",
       "      <th>Volume</th>\n",
       "    </tr>\n",
       "  </thead>\n",
       "  <tbody>\n",
       "    <tr>\n",
       "      <th>0</th>\n",
       "      <td>2004-08-27</td>\n",
       "      <td>122.800003</td>\n",
       "      <td>122.800003</td>\n",
       "      <td>119.820000</td>\n",
       "      <td>120.332497</td>\n",
       "      <td>88.088272</td>\n",
       "      <td>30646000.0</td>\n",
       "    </tr>\n",
       "    <tr>\n",
       "      <th>1</th>\n",
       "      <td>2004-08-30</td>\n",
       "      <td>121.237503</td>\n",
       "      <td>123.750000</td>\n",
       "      <td>120.625000</td>\n",
       "      <td>123.345001</td>\n",
       "      <td>90.293549</td>\n",
       "      <td>24465208.0</td>\n",
       "    </tr>\n",
       "    <tr>\n",
       "      <th>2</th>\n",
       "      <td>2004-08-31</td>\n",
       "      <td>123.312500</td>\n",
       "      <td>123.750000</td>\n",
       "      <td>122.000000</td>\n",
       "      <td>123.512497</td>\n",
       "      <td>90.416122</td>\n",
       "      <td>21194656.0</td>\n",
       "    </tr>\n",
       "    <tr>\n",
       "      <th>3</th>\n",
       "      <td>2004-09-01</td>\n",
       "      <td>123.750000</td>\n",
       "      <td>124.375000</td>\n",
       "      <td>122.949997</td>\n",
       "      <td>123.487503</td>\n",
       "      <td>90.397820</td>\n",
       "      <td>19935544.0</td>\n",
       "    </tr>\n",
       "    <tr>\n",
       "      <th>4</th>\n",
       "      <td>2004-09-02</td>\n",
       "      <td>123.737503</td>\n",
       "      <td>125.574997</td>\n",
       "      <td>123.250000</td>\n",
       "      <td>124.207497</td>\n",
       "      <td>90.924896</td>\n",
       "      <td>21356352.0</td>\n",
       "    </tr>\n",
       "  </tbody>\n",
       "</table>\n",
       "</div>"
      ],
      "text/plain": [
       "         Date        Open        High         Low       Close  Adj Close  \\\n",
       "0  2004-08-27  122.800003  122.800003  119.820000  120.332497  88.088272   \n",
       "1  2004-08-30  121.237503  123.750000  120.625000  123.345001  90.293549   \n",
       "2  2004-08-31  123.312500  123.750000  122.000000  123.512497  90.416122   \n",
       "3  2004-09-01  123.750000  124.375000  122.949997  123.487503  90.397820   \n",
       "4  2004-09-02  123.737503  125.574997  123.250000  124.207497  90.924896   \n",
       "\n",
       "       Volume  \n",
       "0  30646000.0  \n",
       "1  24465208.0  \n",
       "2  21194656.0  \n",
       "3  19935544.0  \n",
       "4  21356352.0  "
      ]
     },
     "execution_count": 3,
     "metadata": {},
     "output_type": "execute_result"
    }
   ],
   "source": [
    "dataset.head()"
   ]
  },
  {
   "cell_type": "code",
   "execution_count": 4,
   "id": "2e82c758",
   "metadata": {},
   "outputs": [],
   "source": [
    "dataset['Date'] = pd.to_datetime(dataset.Date)"
   ]
  },
  {
   "cell_type": "code",
   "execution_count": 5,
   "id": "61ef964e",
   "metadata": {},
   "outputs": [
    {
     "data": {
      "text/plain": [
       "(4494, 7)"
      ]
     },
     "execution_count": 5,
     "metadata": {},
     "output_type": "execute_result"
    }
   ],
   "source": [
    "dataset.shape"
   ]
  },
  {
   "cell_type": "code",
   "execution_count": 6,
   "id": "95d2f5e2",
   "metadata": {},
   "outputs": [],
   "source": [
    "dataset.drop('Adj Close',axis = 1, inplace = True)"
   ]
  },
  {
   "cell_type": "code",
   "execution_count": 7,
   "id": "52714606",
   "metadata": {},
   "outputs": [
    {
     "data": {
      "text/html": [
       "<div>\n",
       "<style scoped>\n",
       "    .dataframe tbody tr th:only-of-type {\n",
       "        vertical-align: middle;\n",
       "    }\n",
       "\n",
       "    .dataframe tbody tr th {\n",
       "        vertical-align: top;\n",
       "    }\n",
       "\n",
       "    .dataframe thead th {\n",
       "        text-align: right;\n",
       "    }\n",
       "</style>\n",
       "<table border=\"1\" class=\"dataframe\">\n",
       "  <thead>\n",
       "    <tr style=\"text-align: right;\">\n",
       "      <th></th>\n",
       "      <th>Date</th>\n",
       "      <th>Open</th>\n",
       "      <th>High</th>\n",
       "      <th>Low</th>\n",
       "      <th>Close</th>\n",
       "      <th>Volume</th>\n",
       "    </tr>\n",
       "  </thead>\n",
       "  <tbody>\n",
       "    <tr>\n",
       "      <th>0</th>\n",
       "      <td>2004-08-27</td>\n",
       "      <td>122.800003</td>\n",
       "      <td>122.800003</td>\n",
       "      <td>119.820000</td>\n",
       "      <td>120.332497</td>\n",
       "      <td>30646000.0</td>\n",
       "    </tr>\n",
       "    <tr>\n",
       "      <th>1</th>\n",
       "      <td>2004-08-30</td>\n",
       "      <td>121.237503</td>\n",
       "      <td>123.750000</td>\n",
       "      <td>120.625000</td>\n",
       "      <td>123.345001</td>\n",
       "      <td>24465208.0</td>\n",
       "    </tr>\n",
       "    <tr>\n",
       "      <th>2</th>\n",
       "      <td>2004-08-31</td>\n",
       "      <td>123.312500</td>\n",
       "      <td>123.750000</td>\n",
       "      <td>122.000000</td>\n",
       "      <td>123.512497</td>\n",
       "      <td>21194656.0</td>\n",
       "    </tr>\n",
       "    <tr>\n",
       "      <th>3</th>\n",
       "      <td>2004-09-01</td>\n",
       "      <td>123.750000</td>\n",
       "      <td>124.375000</td>\n",
       "      <td>122.949997</td>\n",
       "      <td>123.487503</td>\n",
       "      <td>19935544.0</td>\n",
       "    </tr>\n",
       "    <tr>\n",
       "      <th>4</th>\n",
       "      <td>2004-09-02</td>\n",
       "      <td>123.737503</td>\n",
       "      <td>125.574997</td>\n",
       "      <td>123.250000</td>\n",
       "      <td>124.207497</td>\n",
       "      <td>21356352.0</td>\n",
       "    </tr>\n",
       "  </tbody>\n",
       "</table>\n",
       "</div>"
      ],
      "text/plain": [
       "        Date        Open        High         Low       Close      Volume\n",
       "0 2004-08-27  122.800003  122.800003  119.820000  120.332497  30646000.0\n",
       "1 2004-08-30  121.237503  123.750000  120.625000  123.345001  24465208.0\n",
       "2 2004-08-31  123.312500  123.750000  122.000000  123.512497  21194656.0\n",
       "3 2004-09-01  123.750000  124.375000  122.949997  123.487503  19935544.0\n",
       "4 2004-09-02  123.737503  125.574997  123.250000  124.207497  21356352.0"
      ]
     },
     "execution_count": 7,
     "metadata": {},
     "output_type": "execute_result"
    }
   ],
   "source": [
    "dataset.head()"
   ]
  },
  {
   "cell_type": "code",
   "execution_count": 8,
   "id": "e16b0a0e",
   "metadata": {},
   "outputs": [
    {
     "data": {
      "text/plain": [
       "Date      0\n",
       "Open      8\n",
       "High      8\n",
       "Low       8\n",
       "Close     8\n",
       "Volume    8\n",
       "dtype: int64"
      ]
     },
     "execution_count": 8,
     "metadata": {},
     "output_type": "execute_result"
    }
   ],
   "source": [
    "dataset.isnull().sum()"
   ]
  },
  {
   "cell_type": "code",
   "execution_count": 9,
   "id": "e44903b4",
   "metadata": {},
   "outputs": [
    {
     "data": {
      "text/plain": [
       "Date      False\n",
       "Open       True\n",
       "High       True\n",
       "Low        True\n",
       "Close      True\n",
       "Volume     True\n",
       "dtype: bool"
      ]
     },
     "execution_count": 9,
     "metadata": {},
     "output_type": "execute_result"
    }
   ],
   "source": [
    "dataset.isna().any()"
   ]
  },
  {
   "cell_type": "code",
   "execution_count": 10,
   "id": "2de76999",
   "metadata": {},
   "outputs": [
    {
     "name": "stdout",
     "output_type": "stream",
     "text": [
      "<class 'pandas.core.frame.DataFrame'>\n",
      "RangeIndex: 4494 entries, 0 to 4493\n",
      "Data columns (total 6 columns):\n",
      " #   Column  Non-Null Count  Dtype         \n",
      "---  ------  --------------  -----         \n",
      " 0   Date    4494 non-null   datetime64[ns]\n",
      " 1   Open    4486 non-null   float64       \n",
      " 2   High    4486 non-null   float64       \n",
      " 3   Low     4486 non-null   float64       \n",
      " 4   Close   4486 non-null   float64       \n",
      " 5   Volume  4486 non-null   float64       \n",
      "dtypes: datetime64[ns](1), float64(5)\n",
      "memory usage: 210.8 KB\n"
     ]
    }
   ],
   "source": [
    "dataset.info()"
   ]
  },
  {
   "cell_type": "code",
   "execution_count": 11,
   "id": "53cc08bb",
   "metadata": {},
   "outputs": [
    {
     "data": {
      "text/html": [
       "<div>\n",
       "<style scoped>\n",
       "    .dataframe tbody tr th:only-of-type {\n",
       "        vertical-align: middle;\n",
       "    }\n",
       "\n",
       "    .dataframe tbody tr th {\n",
       "        vertical-align: top;\n",
       "    }\n",
       "\n",
       "    .dataframe thead th {\n",
       "        text-align: right;\n",
       "    }\n",
       "</style>\n",
       "<table border=\"1\" class=\"dataframe\">\n",
       "  <thead>\n",
       "    <tr style=\"text-align: right;\">\n",
       "      <th></th>\n",
       "      <th>Open</th>\n",
       "      <th>High</th>\n",
       "      <th>Low</th>\n",
       "      <th>Close</th>\n",
       "      <th>Volume</th>\n",
       "    </tr>\n",
       "  </thead>\n",
       "  <tbody>\n",
       "    <tr>\n",
       "      <th>count</th>\n",
       "      <td>4486.000000</td>\n",
       "      <td>4486.000000</td>\n",
       "      <td>4486.000000</td>\n",
       "      <td>4486.000000</td>\n",
       "      <td>4.486000e+03</td>\n",
       "    </tr>\n",
       "    <tr>\n",
       "      <th>mean</th>\n",
       "      <td>1146.182768</td>\n",
       "      <td>1158.538059</td>\n",
       "      <td>1132.825428</td>\n",
       "      <td>1145.521462</td>\n",
       "      <td>3.620596e+06</td>\n",
       "    </tr>\n",
       "    <tr>\n",
       "      <th>std</th>\n",
       "      <td>994.070086</td>\n",
       "      <td>1003.010607</td>\n",
       "      <td>984.043404</td>\n",
       "      <td>993.346465</td>\n",
       "      <td>3.162368e+06</td>\n",
       "    </tr>\n",
       "    <tr>\n",
       "      <th>min</th>\n",
       "      <td>112.000000</td>\n",
       "      <td>116.112503</td>\n",
       "      <td>103.837502</td>\n",
       "      <td>111.550003</td>\n",
       "      <td>0.000000e+00</td>\n",
       "    </tr>\n",
       "    <tr>\n",
       "      <th>25%</th>\n",
       "      <td>290.693748</td>\n",
       "      <td>295.300010</td>\n",
       "      <td>285.931259</td>\n",
       "      <td>290.275009</td>\n",
       "      <td>1.942489e+06</td>\n",
       "    </tr>\n",
       "    <tr>\n",
       "      <th>50%</th>\n",
       "      <td>977.450012</td>\n",
       "      <td>995.000000</td>\n",
       "      <td>970.250000</td>\n",
       "      <td>981.337524</td>\n",
       "      <td>2.804749e+06</td>\n",
       "    </tr>\n",
       "    <tr>\n",
       "      <th>75%</th>\n",
       "      <td>1564.774963</td>\n",
       "      <td>1597.287476</td>\n",
       "      <td>1548.662537</td>\n",
       "      <td>1576.781219</td>\n",
       "      <td>4.297410e+06</td>\n",
       "    </tr>\n",
       "    <tr>\n",
       "      <th>max</th>\n",
       "      <td>4033.949951</td>\n",
       "      <td>4043.000000</td>\n",
       "      <td>3980.000000</td>\n",
       "      <td>4019.149902</td>\n",
       "      <td>8.806715e+07</td>\n",
       "    </tr>\n",
       "  </tbody>\n",
       "</table>\n",
       "</div>"
      ],
      "text/plain": [
       "              Open         High          Low        Close        Volume\n",
       "count  4486.000000  4486.000000  4486.000000  4486.000000  4.486000e+03\n",
       "mean   1146.182768  1158.538059  1132.825428  1145.521462  3.620596e+06\n",
       "std     994.070086  1003.010607   984.043404   993.346465  3.162368e+06\n",
       "min     112.000000   116.112503   103.837502   111.550003  0.000000e+00\n",
       "25%     290.693748   295.300010   285.931259   290.275009  1.942489e+06\n",
       "50%     977.450012   995.000000   970.250000   981.337524  2.804749e+06\n",
       "75%    1564.774963  1597.287476  1548.662537  1576.781219  4.297410e+06\n",
       "max    4033.949951  4043.000000  3980.000000  4019.149902  8.806715e+07"
      ]
     },
     "execution_count": 11,
     "metadata": {},
     "output_type": "execute_result"
    }
   ],
   "source": [
    "dataset.describe()"
   ]
  },
  {
   "cell_type": "code",
   "execution_count": 12,
   "id": "e1ef5642",
   "metadata": {},
   "outputs": [
    {
     "name": "stdout",
     "output_type": "stream",
     "text": [
      "4494\n"
     ]
    }
   ],
   "source": [
    "print(len(dataset))"
   ]
  },
  {
   "cell_type": "code",
   "execution_count": 13,
   "id": "99a27b6c",
   "metadata": {},
   "outputs": [
    {
     "data": {
      "text/plain": [
       "<AxesSubplot:>"
      ]
     },
     "execution_count": 13,
     "metadata": {},
     "output_type": "execute_result"
    },
    {
     "data": {
      "image/png": "[encoded data removed]",
      "text/plain": [
       "<Figure size 1152x432 with 1 Axes>"
      ]
     },
     "metadata": {
      "needs_background": "light"
     },
     "output_type": "display_data"
    }
   ],
   "source": [
    "dataset['Open'].plot(figsize=(16,6))"
   ]
  },
  {
   "cell_type": "code",
   "execution_count": 14,
   "id": "ffc7b4c3",
   "metadata": {},
   "outputs": [],
   "source": [
    "X  = dataset[['Open','High','Low','Volume']]\n",
    "y = dataset['Close']"
   ]
  },
  {
   "cell_type": "code",
   "execution_count": 15,
   "id": "555fd371",
   "metadata": {},
   "outputs": [
    {
     "data": {
      "text/html": [
       "<div>\n",
       "<style scoped>\n",
       "    .dataframe tbody tr th:only-of-type {\n",
       "        vertical-align: middle;\n",
       "    }\n",
       "\n",
       "    .dataframe tbody tr th {\n",
       "        vertical-align: top;\n",
       "    }\n",
       "\n",
       "    .dataframe thead th {\n",
       "        text-align: right;\n",
       "    }\n",
       "</style>\n",
       "<table border=\"1\" class=\"dataframe\">\n",
       "  <thead>\n",
       "    <tr style=\"text-align: right;\">\n",
       "      <th></th>\n",
       "      <th>Open</th>\n",
       "      <th>High</th>\n",
       "      <th>Low</th>\n",
       "      <th>Close</th>\n",
       "      <th>Volume</th>\n",
       "    </tr>\n",
       "  </thead>\n",
       "  <tbody>\n",
       "    <tr>\n",
       "      <th>Open</th>\n",
       "      <td>1.000000</td>\n",
       "      <td>0.999893</td>\n",
       "      <td>0.999891</td>\n",
       "      <td>0.999779</td>\n",
       "      <td>-0.235007</td>\n",
       "    </tr>\n",
       "    <tr>\n",
       "      <th>High</th>\n",
       "      <td>0.999893</td>\n",
       "      <td>1.000000</td>\n",
       "      <td>0.999877</td>\n",
       "      <td>0.999913</td>\n",
       "      <td>-0.232812</td>\n",
       "    </tr>\n",
       "    <tr>\n",
       "      <th>Low</th>\n",
       "      <td>0.999891</td>\n",
       "      <td>0.999877</td>\n",
       "      <td>1.000000</td>\n",
       "      <td>0.999905</td>\n",
       "      <td>-0.236762</td>\n",
       "    </tr>\n",
       "    <tr>\n",
       "      <th>Close</th>\n",
       "      <td>0.999779</td>\n",
       "      <td>0.999913</td>\n",
       "      <td>0.999905</td>\n",
       "      <td>1.000000</td>\n",
       "      <td>-0.234861</td>\n",
       "    </tr>\n",
       "    <tr>\n",
       "      <th>Volume</th>\n",
       "      <td>-0.235007</td>\n",
       "      <td>-0.232812</td>\n",
       "      <td>-0.236762</td>\n",
       "      <td>-0.234861</td>\n",
       "      <td>1.000000</td>\n",
       "    </tr>\n",
       "  </tbody>\n",
       "</table>\n",
       "</div>"
      ],
      "text/plain": [
       "            Open      High       Low     Close    Volume\n",
       "Open    1.000000  0.999893  0.999891  0.999779 -0.235007\n",
       "High    0.999893  1.000000  0.999877  0.999913 -0.232812\n",
       "Low     0.999891  0.999877  1.000000  0.999905 -0.236762\n",
       "Close   0.999779  0.999913  0.999905  1.000000 -0.234861\n",
       "Volume -0.235007 -0.232812 -0.236762 -0.234861  1.000000"
      ]
     },
     "execution_count": 15,
     "metadata": {},
     "output_type": "execute_result"
    }
   ],
   "source": [
    "corr_matrix = dataset.corr()\n",
    "corr_matrix"
   ]
  },
  {
   "cell_type": "code",
   "execution_count": 16,
   "id": "bd47b380",
   "metadata": {},
   "outputs": [
    {
     "data": {
      "text/plain": [
       "<AxesSubplot:>"
      ]
     },
     "execution_count": 16,
     "metadata": {},
     "output_type": "execute_result"
    },
    {
     "data": {
      "image/png": "[encoded data removed]",
      "text/plain": [
       "<Figure size 432x288 with 2 Axes>"
      ]
     },
     "metadata": {
      "needs_background": "light"
     },
     "output_type": "display_data"
    }
   ],
   "source": [
    "import seaborn as sns\n",
    "# importing seaborn it is a visualization library\n",
    "sns.heatmap(corr_matrix,cmap='BrBG')"
   ]
  },
  {
   "cell_type": "code",
   "execution_count": 17,
   "id": "85e7a87a",
   "metadata": {},
   "outputs": [
    {
     "data": {
      "text/plain": [
       "Text(0.5, 1.0, 'High and Close')"
      ]
     },
     "execution_count": 17,
     "metadata": {},
     "output_type": "execute_result"
    },
    {
     "data": {
      "image/png": "[encoded data removed]",
      "text/plain": [
       "<Figure size 432x288 with 1 Axes>"
      ]
     },
     "metadata": {
      "needs_background": "light"
     },
     "output_type": "display_data"
    }
   ],
   "source": [
    "# Scatter Plot Between High and Low\n",
    "plt.scatter(dataset['High'],dataset['Close'])\n",
    "plt.xlabel('High')\n",
    "plt.ylabel('Close')\n",
    "plt.title('High and Close')\n",
    "# High and close are highly correlated"
   ]
  },
  {
   "cell_type": "code",
   "execution_count": 18,
   "id": "f8a2cbc7",
   "metadata": {},
   "outputs": [
    {
     "data": {
      "text/plain": [
       "Text(0.5, 1.0, 'Volume and Close')"
      ]
     },
     "execution_count": 18,
     "metadata": {},
     "output_type": "execute_result"
    },
    {
     "data": {
      "image/png": "[encoded data removed]",
      "text/plain": [
       "<Figure size 432x288 with 1 Axes>"
      ]
     },
     "metadata": {
      "needs_background": "light"
     },
     "output_type": "display_data"
    }
   ],
   "source": [
    "# Scatter Plot Between Volume and Low\n",
    "plt.scatter(dataset['Volume'],dataset['Close'])\n",
    "plt.xlabel('Volume')\n",
    "plt.ylabel('Close')\n",
    "plt.title('Volume and Close')\n",
    "# Volume and close are not much correlated"
   ]
  },
  {
   "cell_type": "code",
   "execution_count": 19,
   "id": "f698070c",
   "metadata": {},
   "outputs": [],
   "source": [
    "from sklearn.model_selection import train_test_split\n",
    "X_train , X_test , y_train , y_test = train_test_split(X ,y , random_state = 0)"
   ]
  },
  {
   "cell_type": "code",
   "execution_count": 20,
   "id": "d70ea521",
   "metadata": {},
   "outputs": [
    {
     "data": {
      "text/plain": [
       "(3370, 4)"
      ]
     },
     "execution_count": 20,
     "metadata": {},
     "output_type": "execute_result"
    }
   ],
   "source": [
    "X_train.shape"
   ]
  },
  {
   "cell_type": "code",
   "execution_count": 21,
   "id": "e8d3acbe",
   "metadata": {},
   "outputs": [
    {
     "data": {
      "text/plain": [
       "(1124, 4)"
      ]
     },
     "execution_count": 21,
     "metadata": {},
     "output_type": "execute_result"
    }
   ],
   "source": [
    "X_test.shape"
   ]
  },
  {
   "cell_type": "code",
   "execution_count": 22,
   "id": "67730614",
   "metadata": {},
   "outputs": [],
   "source": [
    "from sklearn.linear_model import LinearRegression\n",
    "from sklearn.metrics import confusion_matrix, accuracy_score\n",
    "regressor = LinearRegression()"
   ]
  },
  {
   "cell_type": "code",
   "execution_count": 23,
   "id": "1d8d4b05",
   "metadata": {},
   "outputs": [
    {
     "name": "stdout",
     "output_type": "stream",
     "text": [
      "             Open         High          Low     Volume\n",
      "2445  1199.500000  1222.500000  1196.000000  1526762.0\n",
      "2031   657.450012   660.174988   655.099976  1579768.0\n",
      "3368  1463.275024  1481.875000  1460.175049  1809424.0\n",
      "1888   584.500000   594.900024   583.500000  2165054.0\n",
      "1867   607.000000   611.224976   600.500000  1540878.0\n",
      "...           ...          ...          ...        ...\n",
      "257    169.457504   173.875000   169.457504  5807592.0\n",
      "1912   612.000000   618.450012   610.599976  2745190.0\n",
      "2224   920.500000   920.500000   904.075012  2077574.0\n",
      "1765   527.250000   531.500000   520.500000  3415262.0\n",
      "3484  2077.000000  2121.000000  2050.149902  4508530.0\n",
      "\n",
      "[1124 rows x 4 columns]\n"
     ]
    }
   ],
   "source": [
    "print(X_test)"
   ]
  },
  {
   "cell_type": "code",
   "execution_count": 24,
   "id": "3e0b3e1d",
   "metadata": {},
   "outputs": [
    {
     "data": {
      "text/html": [
       "<div>\n",
       "<style scoped>\n",
       "    .dataframe tbody tr th:only-of-type {\n",
       "        vertical-align: middle;\n",
       "    }\n",
       "\n",
       "    .dataframe tbody tr th {\n",
       "        vertical-align: top;\n",
       "    }\n",
       "\n",
       "    .dataframe thead th {\n",
       "        text-align: right;\n",
       "    }\n",
       "</style>\n",
       "<table border=\"1\" class=\"dataframe\">\n",
       "  <thead>\n",
       "    <tr style=\"text-align: right;\">\n",
       "      <th></th>\n",
       "      <th>Date</th>\n",
       "      <th>Open</th>\n",
       "      <th>High</th>\n",
       "      <th>Low</th>\n",
       "      <th>Close</th>\n",
       "      <th>Volume</th>\n",
       "    </tr>\n",
       "  </thead>\n",
       "  <tbody>\n",
       "    <tr>\n",
       "      <th>0</th>\n",
       "      <td>2004-08-27</td>\n",
       "      <td>122.800003</td>\n",
       "      <td>122.800003</td>\n",
       "      <td>119.820000</td>\n",
       "      <td>120.332497</td>\n",
       "      <td>30646000.0</td>\n",
       "    </tr>\n",
       "    <tr>\n",
       "      <th>1</th>\n",
       "      <td>2004-08-30</td>\n",
       "      <td>121.237503</td>\n",
       "      <td>123.750000</td>\n",
       "      <td>120.625000</td>\n",
       "      <td>123.345001</td>\n",
       "      <td>24465208.0</td>\n",
       "    </tr>\n",
       "    <tr>\n",
       "      <th>2</th>\n",
       "      <td>2004-08-31</td>\n",
       "      <td>123.312500</td>\n",
       "      <td>123.750000</td>\n",
       "      <td>122.000000</td>\n",
       "      <td>123.512497</td>\n",
       "      <td>21194656.0</td>\n",
       "    </tr>\n",
       "    <tr>\n",
       "      <th>3</th>\n",
       "      <td>2004-09-01</td>\n",
       "      <td>123.750000</td>\n",
       "      <td>124.375000</td>\n",
       "      <td>122.949997</td>\n",
       "      <td>123.487503</td>\n",
       "      <td>19935544.0</td>\n",
       "    </tr>\n",
       "    <tr>\n",
       "      <th>4</th>\n",
       "      <td>2004-09-02</td>\n",
       "      <td>123.737503</td>\n",
       "      <td>125.574997</td>\n",
       "      <td>123.250000</td>\n",
       "      <td>124.207497</td>\n",
       "      <td>21356352.0</td>\n",
       "    </tr>\n",
       "    <tr>\n",
       "      <th>5</th>\n",
       "      <td>2004-09-03</td>\n",
       "      <td>125.750000</td>\n",
       "      <td>137.500000</td>\n",
       "      <td>123.794998</td>\n",
       "      <td>124.732498</td>\n",
       "      <td>9869856.0</td>\n",
       "    </tr>\n",
       "    <tr>\n",
       "      <th>6</th>\n",
       "      <td>2004-09-06</td>\n",
       "      <td>129.987503</td>\n",
       "      <td>129.987503</td>\n",
       "      <td>124.112503</td>\n",
       "      <td>124.357498</td>\n",
       "      <td>9038672.0</td>\n",
       "    </tr>\n",
       "    <tr>\n",
       "      <th>7</th>\n",
       "      <td>2004-09-07</td>\n",
       "      <td>129.375000</td>\n",
       "      <td>129.375000</td>\n",
       "      <td>124.375000</td>\n",
       "      <td>124.449997</td>\n",
       "      <td>5772232.0</td>\n",
       "    </tr>\n",
       "    <tr>\n",
       "      <th>8</th>\n",
       "      <td>2004-09-08</td>\n",
       "      <td>124.500000</td>\n",
       "      <td>125.099998</td>\n",
       "      <td>123.887497</td>\n",
       "      <td>124.212502</td>\n",
       "      <td>6593984.0</td>\n",
       "    </tr>\n",
       "    <tr>\n",
       "      <th>9</th>\n",
       "      <td>2004-09-09</td>\n",
       "      <td>124.625000</td>\n",
       "      <td>124.737503</td>\n",
       "      <td>122.307503</td>\n",
       "      <td>122.495003</td>\n",
       "      <td>7947184.0</td>\n",
       "    </tr>\n",
       "    <tr>\n",
       "      <th>10</th>\n",
       "      <td>2004-09-10</td>\n",
       "      <td>123.750000</td>\n",
       "      <td>123.750000</td>\n",
       "      <td>122.000000</td>\n",
       "      <td>123.599998</td>\n",
       "      <td>6415072.0</td>\n",
       "    </tr>\n",
       "    <tr>\n",
       "      <th>11</th>\n",
       "      <td>2004-09-13</td>\n",
       "      <td>123.875000</td>\n",
       "      <td>126.937500</td>\n",
       "      <td>123.875000</td>\n",
       "      <td>125.437500</td>\n",
       "      <td>20904912.0</td>\n",
       "    </tr>\n",
       "    <tr>\n",
       "      <th>12</th>\n",
       "      <td>2004-09-14</td>\n",
       "      <td>125.625000</td>\n",
       "      <td>127.349998</td>\n",
       "      <td>125.370003</td>\n",
       "      <td>126.957497</td>\n",
       "      <td>15335472.0</td>\n",
       "    </tr>\n",
       "    <tr>\n",
       "      <th>13</th>\n",
       "      <td>2004-09-15</td>\n",
       "      <td>127.250000</td>\n",
       "      <td>127.500000</td>\n",
       "      <td>125.150002</td>\n",
       "      <td>125.762497</td>\n",
       "      <td>11988288.0</td>\n",
       "    </tr>\n",
       "    <tr>\n",
       "      <th>14</th>\n",
       "      <td>2004-09-16</td>\n",
       "      <td>125.875000</td>\n",
       "      <td>126.875000</td>\n",
       "      <td>125.312500</td>\n",
       "      <td>126.057503</td>\n",
       "      <td>7358224.0</td>\n",
       "    </tr>\n",
       "    <tr>\n",
       "      <th>15</th>\n",
       "      <td>2004-09-17</td>\n",
       "      <td>126.500000</td>\n",
       "      <td>128.737503</td>\n",
       "      <td>126.287498</td>\n",
       "      <td>128.062500</td>\n",
       "      <td>14627896.0</td>\n",
       "    </tr>\n",
       "    <tr>\n",
       "      <th>16</th>\n",
       "      <td>2004-09-20</td>\n",
       "      <td>129.050003</td>\n",
       "      <td>129.612503</td>\n",
       "      <td>127.519997</td>\n",
       "      <td>127.862503</td>\n",
       "      <td>8552224.0</td>\n",
       "    </tr>\n",
       "    <tr>\n",
       "      <th>17</th>\n",
       "      <td>2004-09-21</td>\n",
       "      <td>128.107498</td>\n",
       "      <td>131.062500</td>\n",
       "      <td>127.750000</td>\n",
       "      <td>130.725006</td>\n",
       "      <td>13897080.0</td>\n",
       "    </tr>\n",
       "    <tr>\n",
       "      <th>18</th>\n",
       "      <td>2004-09-22</td>\n",
       "      <td>131.050003</td>\n",
       "      <td>132.000000</td>\n",
       "      <td>129.637497</td>\n",
       "      <td>131.507507</td>\n",
       "      <td>15371584.0</td>\n",
       "    </tr>\n",
       "    <tr>\n",
       "      <th>19</th>\n",
       "      <td>2004-09-23</td>\n",
       "      <td>131.000000</td>\n",
       "      <td>131.125000</td>\n",
       "      <td>128.375000</td>\n",
       "      <td>128.782501</td>\n",
       "      <td>15819680.0</td>\n",
       "    </tr>\n",
       "    <tr>\n",
       "      <th>20</th>\n",
       "      <td>2004-09-24</td>\n",
       "      <td>128.637497</td>\n",
       "      <td>130.000000</td>\n",
       "      <td>128.250000</td>\n",
       "      <td>128.600006</td>\n",
       "      <td>8083208.0</td>\n",
       "    </tr>\n",
       "    <tr>\n",
       "      <th>21</th>\n",
       "      <td>2004-09-27</td>\n",
       "      <td>128.437500</td>\n",
       "      <td>129.062500</td>\n",
       "      <td>126.875000</td>\n",
       "      <td>127.595001</td>\n",
       "      <td>8229512.0</td>\n",
       "    </tr>\n",
       "    <tr>\n",
       "      <th>22</th>\n",
       "      <td>2004-09-28</td>\n",
       "      <td>127.000000</td>\n",
       "      <td>128.425003</td>\n",
       "      <td>126.562500</td>\n",
       "      <td>126.945000</td>\n",
       "      <td>6339416.0</td>\n",
       "    </tr>\n",
       "    <tr>\n",
       "      <th>23</th>\n",
       "      <td>2004-09-29</td>\n",
       "      <td>127.407501</td>\n",
       "      <td>129.125000</td>\n",
       "      <td>127.019997</td>\n",
       "      <td>128.875000</td>\n",
       "      <td>11737176.0</td>\n",
       "    </tr>\n",
       "    <tr>\n",
       "      <th>24</th>\n",
       "      <td>2004-09-30</td>\n",
       "      <td>129.449997</td>\n",
       "      <td>130.112503</td>\n",
       "      <td>127.582497</td>\n",
       "      <td>128.387497</td>\n",
       "      <td>12521432.0</td>\n",
       "    </tr>\n",
       "  </tbody>\n",
       "</table>\n",
       "</div>"
      ],
      "text/plain": [
       "         Date        Open        High         Low       Close      Volume\n",
       "0  2004-08-27  122.800003  122.800003  119.820000  120.332497  30646000.0\n",
       "1  2004-08-30  121.237503  123.750000  120.625000  123.345001  24465208.0\n",
       "2  2004-08-31  123.312500  123.750000  122.000000  123.512497  21194656.0\n",
       "3  2004-09-01  123.750000  124.375000  122.949997  123.487503  19935544.0\n",
       "4  2004-09-02  123.737503  125.574997  123.250000  124.207497  21356352.0\n",
       "5  2004-09-03  125.750000  137.500000  123.794998  124.732498   9869856.0\n",
       "6  2004-09-06  129.987503  129.987503  124.112503  124.357498   9038672.0\n",
       "7  2004-09-07  129.375000  129.375000  124.375000  124.449997   5772232.0\n",
       "8  2004-09-08  124.500000  125.099998  123.887497  124.212502   6593984.0\n",
       "9  2004-09-09  124.625000  124.737503  122.307503  122.495003   7947184.0\n",
       "10 2004-09-10  123.750000  123.750000  122.000000  123.599998   6415072.0\n",
       "11 2004-09-13  123.875000  126.937500  123.875000  125.437500  20904912.0\n",
       "12 2004-09-14  125.625000  127.349998  125.370003  126.957497  15335472.0\n",
       "13 2004-09-15  127.250000  127.500000  125.150002  125.762497  11988288.0\n",
       "14 2004-09-16  125.875000  126.875000  125.312500  126.057503   7358224.0\n",
       "15 2004-09-17  126.500000  128.737503  126.287498  128.062500  14627896.0\n",
       "16 2004-09-20  129.050003  129.612503  127.519997  127.862503   8552224.0\n",
       "17 2004-09-21  128.107498  131.062500  127.750000  130.725006  13897080.0\n",
       "18 2004-09-22  131.050003  132.000000  129.637497  131.507507  15371584.0\n",
       "19 2004-09-23  131.000000  131.125000  128.375000  128.782501  15819680.0\n",
       "20 2004-09-24  128.637497  130.000000  128.250000  128.600006   8083208.0\n",
       "21 2004-09-27  128.437500  129.062500  126.875000  127.595001   8229512.0\n",
       "22 2004-09-28  127.000000  128.425003  126.562500  126.945000   6339416.0\n",
       "23 2004-09-29  127.407501  129.125000  127.019997  128.875000  11737176.0\n",
       "24 2004-09-30  129.449997  130.112503  127.582497  128.387497  12521432.0"
      ]
     },
     "execution_count": 24,
     "metadata": {},
     "output_type": "execute_result"
    }
   ],
   "source": [
    "dataset.head(25)"
   ]
  },
  {
   "cell_type": "code",
   "execution_count": 25,
   "id": "52662ba9",
   "metadata": {},
   "outputs": [],
   "source": [
    "from sklearn.metrics import confusion_matrix, accuracy_score"
   ]
  },
  {
   "cell_type": "code",
   "execution_count": 26,
   "id": "0e429c12",
   "metadata": {},
   "outputs": [
    {
     "data": {
      "text/plain": [
       "<AxesSubplot:>"
      ]
     },
     "execution_count": 26,
     "metadata": {},
     "output_type": "execute_result"
    },
    {
     "data": {
      "image/png": "[encoded data removed]",
      "text/plain": [
       "<Figure size 1152x432 with 1 Axes>"
      ]
     },
     "metadata": {
      "needs_background": "light"
     },
     "output_type": "display_data"
    }
   ],
   "source": [
    "dataset['Close: 30 Day Mean'] = dataset['Close'].rolling(window=30).mean()\n",
    "dataset[['Close','Close: 30 Day Mean']].plot(figsize=(16,6))"
   ]
  },
  {
   "cell_type": "code",
   "execution_count": 27,
   "id": "d0b4ab46",
   "metadata": {},
   "outputs": [
    {
     "data": {
      "text/plain": [
       "<AxesSubplot:>"
      ]
     },
     "execution_count": 27,
     "metadata": {},
     "output_type": "execute_result"
    },
    {
     "data": {
      "image/png": "[encoded data removed]",
      "text/plain": [
       "<Figure size 1152x432 with 1 Axes>"
      ]
     },
     "metadata": {
      "needs_background": "light"
     },
     "output_type": "display_data"
    }
   ],
   "source": [
    "dataset['Close'].expanding(min_periods=1).mean().plot(figsize=(16,6))"
   ]
  },
  {
   "cell_type": "code",
   "execution_count": null,
   "id": "a79181e3",
   "metadata": {},
   "outputs": [],
   "source": []
  }
 ],
 "metadata": {
  "kernelspec": {
   "display_name": "Python 3",
   "language": "python",
   "name": "python3"
  },
  "language_info": {
   "codemirror_mode": {
    "name": "ipython",
    "version": 3
   },
   "file_extension": ".py",
   "mimetype": "text/x-python",
   "name": "python",
   "nbconvert_exporter": "python",
   "pygments_lexer": "ipython3",
   "version": "3.8.8"
  }
 },
 "nbformat": 4,
 "nbformat_minor": 5
}
